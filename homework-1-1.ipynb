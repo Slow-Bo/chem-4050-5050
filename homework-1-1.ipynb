{
 "cells": [
  {
   "cell_type": "code",
   "execution_count": 4,
   "id": "c0acd58b",
   "metadata": {},
   "outputs": [
    {
     "name": "stdout",
     "output_type": "stream",
     "text": [
      "    Volume  Pressure\n",
      "0       48   29.1250\n",
      "1       46   30.5625\n",
      "2       44   31.9375\n",
      "3       42   33.5000\n",
      "4       40   35.3125\n",
      "5       38   37.0000\n",
      "6       36   39.3125\n",
      "7       34   41.6250\n",
      "8       32   44.1875\n",
      "9       30   47.0625\n",
      "10      28   50.3125\n",
      "11      26   54.3125\n",
      "12      24   58.8125\n",
      "13      23   61.3125\n",
      "14      22   64.0625\n",
      "15      21   67.0625\n",
      "16      20   70.6875\n",
      "17      19   74.1250\n",
      "18      18   77.8750\n",
      "19      17   82.7500\n",
      "20      16   87.8750\n",
      "21      15   93.0625\n",
      "22      14  100.4375\n",
      "23      13  107.8125\n",
      "24      12  117.5625\n"
     ]
    }
   ],
   "source": [
    "import pandas as pd\n",
    "import numpy as np\n",
    "\n",
    "df = pd.read_csv('data/volume_pressure_data.csv')\n",
    "\n",
    "print(df)\n"
   ]
  },
  {
   "cell_type": "code",
   "execution_count": null,
   "id": "b9043d8d",
   "metadata": {},
   "outputs": [],
   "source": []
  }
 ],
 "metadata": {
  "kernelspec": {
   "display_name": "Python 3",
   "language": "python",
   "name": "python3"
  },
  "language_info": {
   "codemirror_mode": {
    "name": "ipython",
    "version": 3
   },
   "file_extension": ".py",
   "mimetype": "text/x-python",
   "name": "python",
   "nbconvert_exporter": "python",
   "pygments_lexer": "ipython3",
   "version": "3.13.7"
  }
 },
 "nbformat": 4,
 "nbformat_minor": 5
}
