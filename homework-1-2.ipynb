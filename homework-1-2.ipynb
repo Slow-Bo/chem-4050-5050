{
 "cells": [
  {
   "cell_type": "code",
   "execution_count": null,
   "id": "b3f5b7fd",
   "metadata": {},
   "outputs": [],
   "source": []
  }
 ],
 "metadata": {
  "language_info": {
   "name": "python"
  }
 },
 "nbformat": 4,
 "nbformat_minor": 5
}
