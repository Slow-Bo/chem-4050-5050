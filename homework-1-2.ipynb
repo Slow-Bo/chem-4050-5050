{
 "cells": [
  {
   "cell_type": "code",
   "execution_count": null,
   "id": "b3f5b7fd",
   "metadata": {},
   "outputs": [],
   "source": [
    "H2 = {\n",
    "    \"H1\": [0.0000, 0.0000, 0.0000],\n",
    "    \"H2\": [0.0000, 0.0000, 0.7414]\n",
    "}\n",
    "H2O = {\n",
    "    \"O1\": [0.0000, 0.0000, 0.1173],\n",
    "    \"H2\": [0.0000, 0.7572, -0.4692],\n",
    "    \"H3\": [0.0000, -0.7572, -0.4692]\n",
    "}"
   ]
  }
 ],
 "metadata": {
  "language_info": {
   "name": "python"
  }
 },
 "nbformat": 4,
 "nbformat_minor": 5
}
