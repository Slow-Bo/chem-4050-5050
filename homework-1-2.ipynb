{
 "cells": [
  {
   "cell_type": "code",
   "execution_count": 2,
   "id": "b3f5b7fd",
   "metadata": {},
   "outputs": [],
   "source": [
    "import numpy as np\n",
    "import pandas as pd\n",
    "\n",
    "H2 = {\n",
    "    \"H1\": [0.0000, 0.0000, 0.0000],\n",
    "    \"H2\": [0.0000, 0.0000, 0.7414]\n",
    "}\n",
    "H2O = {\n",
    "    \"O1\": [0.0000, 0.0000, 0.1173],\n",
    "    \"H2\": [0.0000, 0.7572, -0.4692],\n",
    "    \"H3\": [0.0000, -0.7572, -0.4692]\n",
    "}\n"
   ]
  },
  {
   "cell_type": "code",
   "execution_count": 14,
   "id": "ab0aeec3",
   "metadata": {},
   "outputs": [
    {
     "name": "stdout",
     "output_type": "stream",
     "text": [
      "1.7320508075688772\n"
     ]
    }
   ],
   "source": [
    "#a function to calculate bond length the input is 2 atom's positions\n",
    "def Bond_Length(Atom1 = [0, 0, 0], Atom2 = [0, 0, 0]):\n",
    "    #distance starts at 0\n",
    "    distance = 0\n",
    "    # The for loop adds the square difference in position in all dimentions together\n",
    "    for position in Atom1:\n",
    "        diff = (Atom1[position] - Atom2[position])**2\n",
    "        distance += diff\n",
    "    # returns the square root of the diffrences squared as per pythagoras' theorm\n",
    "    return np.sqrt(distance)\n",
    "\n",
    "print( Bond_Length([0,0,0], [1,1,1]))"
   ]
  }
 ],
 "metadata": {
  "kernelspec": {
   "display_name": "Python 3",
   "language": "python",
   "name": "python3"
  },
  "language_info": {
   "codemirror_mode": {
    "name": "ipython",
    "version": 3
   },
   "file_extension": ".py",
   "mimetype": "text/x-python",
   "name": "python",
   "nbconvert_exporter": "python",
   "pygments_lexer": "ipython3",
   "version": "3.13.7"
  }
 },
 "nbformat": 4,
 "nbformat_minor": 5
}
