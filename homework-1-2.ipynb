{
 "cells": [
  {
   "cell_type": "code",
   "execution_count": 2,
   "id": "b3f5b7fd",
   "metadata": {},
   "outputs": [],
   "source": [
    "import numpy as np\n",
    "import pandas as pd\n",
    "\n",
    "H2 = {\n",
    "    \"H1\": [0.0000, 0.0000, 0.0000],\n",
    "    \"H2\": [0.0000, 0.0000, 0.7414]\n",
    "}\n",
    "H2O = {\n",
    "    \"O1\": [0.0000, 0.0000, 0.1173],\n",
    "    \"H2\": [0.0000, 0.7572, -0.4692],\n",
    "    \"H3\": [0.0000, -0.7572, -0.4692]\n",
    "}\n"
   ]
  },
  {
   "cell_type": "code",
   "execution_count": 49,
   "id": "ab0aeec3",
   "metadata": {},
   "outputs": [
    {
     "name": "stdout",
     "output_type": "stream",
     "text": [
      "1.7320508075688772\n"
     ]
    }
   ],
   "source": [
    "#a function to calculate bond length the input is 2 atom's positions\n",
    "def Bond_Length(Atom1 = [0, 0, 0], Atom2 = [0, 0, 0]):\n",
    "    #distance starts at 0\n",
    "    distance = 0\n",
    "    # The for loop adds the square difference in position in all dimentions together\n",
    "    for position in range(3):\n",
    "        diff = (Atom1[position] - Atom2[position])**2\n",
    "        distance += diff\n",
    "    # returns the square root of the diffrences squared as per pythagoras' theorm\n",
    "    return np.sqrt(distance)\n",
    "\n",
    "#Testing to see if function functions\n",
    "print(Bond_Length([0,0,0], [1,1,1]))"
   ]
  },
  {
   "cell_type": "code",
   "execution_count": 70,
   "id": "ed5eba00",
   "metadata": {},
   "outputs": [
    {
     "name": "stdout",
     "output_type": "stream",
     "text": [
      "The angle is acute\n",
      "36.69922520048988\n"
     ]
    }
   ],
   "source": [
    "#A function for subtracting one vector from aonther\n",
    "def VecSubtract(vector01, vector02):\n",
    "    #creates a new vector using the first 3 values of two other vectors\n",
    "    vector03 = [vector01[value] - vector02[value] for value in range(3)]\n",
    "    return vector03\n",
    "#A function for computing the bond angle\n",
    "def Bond_Angle(Atom1 = [0, 0, 0], Atom2 = [0, 0, 0], Atom3 = [0, 0, 0]):\n",
    "    #These values will be used in calculations\n",
    "    Numerator = 0\n",
    "    #Calls my subtracting function because I am too lazy to write the same thing twice\n",
    "    Vector_1 = VecSubtract(Atom3, Atom2)\n",
    "    Vector_2 = VecSubtract(Atom1, Atom2)\n",
    "    #Figures out the absolute value of each vector by calling the bond length function\n",
    "    AbsV1 = np.absolute(Bond_Length(Atom2, Atom3))\n",
    "    AbsV2 = np.absolute(Bond_Length(Atom1, Atom2))\n",
    "    #Figures out the dot product of the vector\n",
    "    for value in range(3):\n",
    "        Numerator += np.multiply(Vector_1[value], Vector_2[value])\n",
    "    #Plugs all priorly calculated numbers into the equation to calculate bond angle in degrees\n",
    "    Result = np.degrees(np.arccos(Numerator/(AbsV1*AbsV2)))\n",
    "    #Prints what type of angle the bond angle is\n",
    "    if Result < 90:\n",
    "        print(\"The angle is acute\")\n",
    "    elif Result == 90:\n",
    "        print(\"The angle is right\")\n",
    "    else:\n",
    "        print(\"The angle is obtuse\")\n",
    "\n",
    "    return (Result)\n",
    "\n",
    "#Testing to see if things work\n",
    "print(Bond_Angle([1, 0, 1.5], [1, 0, 0], [0, 2, 3]))"
   ]
  },
  {
   "cell_type": "code",
   "execution_count": null,
   "id": "633a20f3",
   "metadata": {},
   "outputs": [
    {
     "name": "stdout",
     "output_type": "stream",
     "text": [
      "[np.float64(0.9577755948028744), np.float64(0.9577755948028744)]\n"
     ]
    }
   ],
   "source": [
    "#Computes all bond lengths\n",
    "def calculate_all_bond_lengths(molecule):\n",
    "   #An empty array for later\n",
    "   bond_lengths = []\n",
    "   #Nested for loop allows us to grab two atoms from molecules instead of 1\n",
    "   for atom1, value1 in molecule.items():\n",
    "        for atom2, value2 in molecule.items():\n",
    "            #If statement ensures we have 2 different atoms\n",
    "            if atom1 != atom2:\n",
    "                #Calls the bond length function and adds the result to the empty array\n",
    "                BL = Bond_Length(value1, value2)\n",
    "                bond_lengths.append(BL)\n",
    "        return bond_lengths\n",
    "\n",
    "#For testing purposes\n",
    "print(calculate_all_bond_lengths(H2))\n",
    "\n",
    "\n",
    "#Computes all bond angles in dataset\n",
    "def Compute_all(molecule):\n",
    "    pass\n"
   ]
  }
 ],
 "metadata": {
  "kernelspec": {
   "display_name": "Python 3",
   "language": "python",
   "name": "python3"
  },
  "language_info": {
   "codemirror_mode": {
    "name": "ipython",
    "version": 3
   },
   "file_extension": ".py",
   "mimetype": "text/x-python",
   "name": "python",
   "nbconvert_exporter": "python",
   "pygments_lexer": "ipython3",
   "version": "3.13.7"
  }
 },
 "nbformat": 4,
 "nbformat_minor": 5
}
