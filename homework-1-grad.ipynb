{
 "cells": [
  {
   "cell_type": "code",
   "execution_count": null,
   "id": "b57df40b",
   "metadata": {},
   "outputs": [
    {
     "name": "stdout",
     "output_type": "stream",
     "text": [
      "0.0005002501250625312\n"
     ]
    }
   ],
   "source": [
    "import numpy as np\n",
    "import pandas as pd\n",
    "\n",
    "#Prepares the values for calculation\n",
    "h = 1\n",
    "m = 1\n",
    "L = 1\n",
    "\n",
    "#Creates a range of x values from -L/2 to L/2\n",
    "Real_Space_Grid = np.linspace(-L/2, L/2, 2000)\n",
    "\n",
    "#I spent half an hour trying to come up with some clever way to do this, but it just so happens numpy just has a built in function that does it for you\n",
    "#This function calculates all the delta X values \n",
    "DeltaX_All = np.diff(Real_Space_Grid)\n",
    "\n",
    "#All the delta X values should be the same, but I'll average them just to be safe\n",
    "DeltaX = np.mean(DeltaX_All)\n",
    "\n",
    "#Testing\n",
    "print(DeltaX)"
   ]
  },
  {
   "cell_type": "code",
   "execution_count": null,
   "id": "22cd4532",
   "metadata": {},
   "outputs": [
    {
     "name": "stdout",
     "output_type": "stream",
     "text": [
      "[[-7992002.  3996001.        0. ...        0.        0.        0.]\n",
      " [ 3996001. -7992002.  3996001. ...        0.        0.        0.]\n",
      " [       0.  3996001. -7992002. ...        0.        0.        0.]\n",
      " ...\n",
      " [       0.        0.        0. ... -7992002.  3996001.        0.]\n",
      " [       0.        0.        0. ...  3996001. -7992002.  3996001.]\n",
      " [       0.        0.        0. ...        0.  3996001. -7992002.]]\n"
     ]
    }
   ],
   "source": [
    "#Constructs the Off Diagonal Matrix by preparing a 1999 long array of ones and imposing them on the super and sub diagonal\n",
    "Ones = np.full(1999, 1)\n",
    "Sup_Diag_Matrix = np.diagflat(Ones, k=1)\n",
    "Sub_Diag_Matrix = np.diagflat(Ones, k=-1)\n",
    "\n",
    "#Combines Off Diagonal Matrix with the Identity matrix times negitive 2 to create the Laplacian Matrix\n",
    "LP_Matrix = Sup_Diag_Matrix + (np.identity(2000) * -2) + Sub_Diag_Matrix\n",
    "\n",
    "\n",
    "\n",
    "#This will take the matrix times the one over the distance between points squared as requested\n",
    "Laplacian = (1/(DeltaX**2)) * LP_Matrix\n",
    "\n",
    "\n",
    "#Tests to see if LP matrix was constructed correctly\n",
    "print(Laplacian)"
   ]
  },
  {
   "cell_type": "code",
   "execution_count": 94,
   "id": "8e63a51e",
   "metadata": {},
   "outputs": [
    {
     "name": "stdout",
     "output_type": "stream",
     "text": [
      "[[ 3996001.  -1998000.5       -0.  ...       -0.        -0.        -0. ]\n",
      " [-1998000.5  3996001.  -1998000.5 ...       -0.        -0.        -0. ]\n",
      " [      -0.  -1998000.5  3996001.  ...       -0.        -0.        -0. ]\n",
      " ...\n",
      " [      -0.        -0.        -0.  ...  3996001.  -1998000.5       -0. ]\n",
      " [      -0.        -0.        -0.  ... -1998000.5  3996001.  -1998000.5]\n",
      " [      -0.        -0.        -0.  ...       -0.  -1998000.5  3996001. ]]\n"
     ]
    }
   ],
   "source": [
    "#This is the construction of the hamiltonian\n",
    "Hamiltionian = -h**2/(2*m) * Laplacian\n",
    "\n",
    "#And a test to see if it works\n",
    "print(Hamiltionian)"
   ]
  },
  {
   "cell_type": "code",
   "execution_count": null,
   "id": "cab69a6b",
   "metadata": {},
   "outputs": [
    {
     "name": "stdout",
     "output_type": "stream",
     "text": [
      "[np.float64(4.924941448837263), np.float64(19.699753647755948), np.float64(44.32440018504675), np.float64(78.79882035589716), np.float64(123.1229291864409), np.float64(177.29661742153422)]\n"
     ]
    }
   ],
   "source": [
    "#Calculates the Eigenvalues and eigenvector\n",
    "Eigvals, Eigvec = np.linalg.eig(Hamiltionian)\n",
    "\n",
    "\n",
    "\n",
    "#Sorts Eigenvalues\n",
    "Sorted_Eig = np.sort(Eigvals)\n",
    "\n",
    "#Creates an array and places the first 7 Eigen values into it\n",
    "Extracted_Eig = []\n",
    "for i in range(6):\n",
    "    Extracted_Eig.append(Sorted_Eig[i])\n",
    "\n",
    "#Print for testing\n",
    "print(Extracted_Eig)\n",
    "\n"
   ]
  },
  {
   "cell_type": "code",
   "execution_count": null,
   "id": "2afade95",
   "metadata": {},
   "outputs": [],
   "source": [
    "#Extracts the first 5 eigenvectors\n",
    "Extracted_Ev = []"
   ]
  }
 ],
 "metadata": {
  "kernelspec": {
   "display_name": "Python 3",
   "language": "python",
   "name": "python3"
  },
  "language_info": {
   "codemirror_mode": {
    "name": "ipython",
    "version": 3
   },
   "file_extension": ".py",
   "mimetype": "text/x-python",
   "name": "python",
   "nbconvert_exporter": "python",
   "pygments_lexer": "ipython3",
   "version": "3.13.7"
  }
 },
 "nbformat": 4,
 "nbformat_minor": 5
}
